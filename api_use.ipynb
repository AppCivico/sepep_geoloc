{
 "cells": [
  {
   "cell_type": "code",
   "execution_count": 18,
   "id": "5eaf007c-4c0b-49df-9acc-37dec8531662",
   "metadata": {},
   "outputs": [],
   "source": [
    "from api.core.integrations.nominatim import nominatim_address_search\n",
    "import geopandas as gpd\n",
    "from shapely.geometry import shape"
   ]
  },
  {
   "cell_type": "code",
   "execution_count": 15,
   "id": "15df5731-d006-4b72-bfbe-d261dea88f8d",
   "metadata": {},
   "outputs": [
    {
     "name": "stdout",
     "output_type": "stream",
     "text": [
      "Searching nominatim:  https://nominatim.openstreetmap.org/search?street=Rua Libero Badaró, 425&city=Sao Paulo&state=Sao Paulo&country=br&bounded=0&layer=address&format=geojson&accept-language=en-US&email=hpougy@prefeitura.sp.gov.br&addressdetails=1\n"
     ]
    }
   ],
   "source": [
    "#resp = nominatim_address_search('Rua Libero Badaró, 425')"
   ]
  },
  {
   "cell_type": "code",
   "execution_count": 16,
   "id": "1249a5fe-587e-4b7f-b280-2df16807bdc9",
   "metadata": {},
   "outputs": [
    {
     "data": {
      "text/plain": [
       "{'type': 'FeatureCollection',\n",
       " 'licence': 'Data © OpenStreetMap contributors, ODbL 1.0. http://osm.org/copyright',\n",
       " 'features': [{'type': 'Feature',\n",
       "   'properties': {'place_id': 40252769,\n",
       "    'osm_type': 'way',\n",
       "    'osm_id': 425691648,\n",
       "    'place_rank': 30,\n",
       "    'category': 'building',\n",
       "    'type': 'yes',\n",
       "    'importance': 0.2533630197666373,\n",
       "    'addresstype': 'building',\n",
       "    'name': 'Grande São Paulo',\n",
       "    'display_name': 'Grande São Paulo, 425, Rua Líbero Badaró, Glicério, Sé, São Paulo, Região Imediata de São Paulo, Região Metropolitana de São Paulo, Região Geográfica Intermediária de São Paulo, São Paulo, Southeast Region, 01009-000, Brazil',\n",
       "    'address': {'building': 'Grande São Paulo',\n",
       "     'house_number': '425',\n",
       "     'road': 'Rua Líbero Badaró',\n",
       "     'suburb': 'Glicério',\n",
       "     'city': 'São Paulo',\n",
       "     'municipality': 'Região Imediata de São Paulo',\n",
       "     'county': 'Região Metropolitana de São Paulo',\n",
       "     'state_district': 'Região Geográfica Intermediária de São Paulo',\n",
       "     'state': 'São Paulo',\n",
       "     'ISO3166-2-lvl4': 'BR-SP',\n",
       "     'region': 'Southeast Region',\n",
       "     'postcode': '01009-000',\n",
       "     'country': 'Brazil',\n",
       "     'country_code': 'br'}},\n",
       "   'bbox': [-46.6366644, -23.5465051, -46.6362222, -23.5460434],\n",
       "   'geometry': {'type': 'Point',\n",
       "    'coordinates': [-46.63642711761827, -23.546245499999998]}}]}"
      ]
     },
     "execution_count": 16,
     "metadata": {},
     "output_type": "execute_result"
    }
   ],
   "source": [
    "resp"
   ]
  },
  {
   "cell_type": "code",
   "execution_count": null,
   "id": "5b3b428e-02bc-43c6-81b0-39f9b83644a4",
   "metadata": {},
   "outputs": [],
   "source": [
    "resp"
   ]
  },
  {
   "cell_type": "code",
   "execution_count": 4,
   "id": "5565bcb3-d3cc-4421-a0a8-cd9405ebdc43",
   "metadata": {},
   "outputs": [],
   "source": [
    "from api.core.integrations.geosampa import geosampa"
   ]
  },
  {
   "cell_type": "code",
   "execution_count": 11,
   "id": "4a37afa9-e3a7-4ef6-9a3b-e0ed7a5d745e",
   "metadata": {},
   "outputs": [],
   "source": [
    "y, x = -46.63642711761827, -23.546245499999998"
   ]
  },
  {
   "cell_type": "code",
   "execution_count": 12,
   "id": "05d3b3d1-ef80-49e3-83d5-e484eca0c95a",
   "metadata": {},
   "outputs": [],
   "source": [
    "from api.core.utils.geo import point_from_wgs_to_sirgas"
   ]
  },
  {
   "cell_type": "code",
   "execution_count": 13,
   "id": "4e1dcc0c-130b-4ba8-9377-407c7bc34184",
   "metadata": {},
   "outputs": [],
   "source": [
    "x, y = point_from_wgs_to_sirgas(x, y)"
   ]
  },
  {
   "cell_type": "code",
   "execution_count": 19,
   "id": "0adefc57-be45-447a-99d1-cda5667b2e7f",
   "metadata": {},
   "outputs": [
    {
     "name": "stdout",
     "output_type": "stream",
     "text": [
      "Requesting geosampa: http://wfs.geosampa.prefeitura.sp.gov.br/geoserver/ows/?service=WFS&version=1.0.0&request=GetFeature&outputFormat=application/json&exceptions=application/json&typeName=geoportal:distrito_municipal&cql_filter=DWITHIN(ge_poligono,POINT(332963.291032242 7395055.814473145),5,meters)\n"
     ]
    }
   ],
   "source": [
    "dist = geosampa.point_within_pol('geoportal:distrito_municipal', x, y)"
   ]
  },
  {
   "cell_type": "code",
   "execution_count": 26,
   "id": "1736eb44-b5e4-48b9-817f-38523b3a7c46",
   "metadata": {
    "tags": []
   },
   "outputs": [],
   "source": [
    "dist = dist['features'][0]"
   ]
  },
  {
   "cell_type": "code",
   "execution_count": 34,
   "id": "3cf57f09-9da0-4e5d-a3c3-b35881ebc0a4",
   "metadata": {},
   "outputs": [
    {
     "data": {
      "text/plain": [
       "<AxesSubplot: >"
      ]
     },
     "execution_count": 34,
     "metadata": {},
     "output_type": "execute_result"
    },
    {
     "data": {
      "image/png": "[encoded data removed]",
      "text/plain": [
       "<Figure size 640x480 with 1 Axes>"
      ]
     },
     "metadata": {},
     "output_type": "display_data"
    }
   ],
   "source": [
    "gpd.GeoDataFrame({'geometry':[shape(dist['geometry'])]}).plot()"
   ]
  },
  {
   "cell_type": "code",
   "execution_count": null,
   "id": "3c8b6b33-e222-477b-9792-605f24c20a97",
   "metadata": {},
   "outputs": [],
   "source": []
  }
 ],
 "metadata": {
  "kernelspec": {
   "display_name": "Python 3 (ipykernel)",
   "language": "python",
   "name": "python3"
  },
  "language_info": {
   "codemirror_mode": {
    "name": "ipython",
    "version": 3
   },
   "file_extension": ".py",
   "mimetype": "text/x-python",
   "name": "python",
   "nbconvert_exporter": "python",
   "pygments_lexer": "ipython3",
   "version": "3.11.1"
  }
 },
 "nbformat": 4,
 "nbformat_minor": 5
}
